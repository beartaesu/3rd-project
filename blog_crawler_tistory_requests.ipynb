{
 "cells": [
  {
   "cell_type": "code",
   "execution_count": 2,
   "id": "4fc4f4de",
   "metadata": {},
   "outputs": [
    {
     "name": "stdout",
     "output_type": "stream",
     "text": [
      "Requirement already satisfied: google in c:\\users\\playdata\\appdata\\local\\programs\\python\\python313\\lib\\site-packages (3.0.0)\n",
      "Requirement already satisfied: beautifulsoup4 in c:\\users\\playdata\\appdata\\local\\programs\\python\\python313\\lib\\site-packages (from google) (4.12.3)\n",
      "Requirement already satisfied: soupsieve>1.2 in c:\\users\\playdata\\appdata\\local\\programs\\python\\python313\\lib\\site-packages (from beautifulsoup4->google) (2.6)\n"
     ]
    }
   ],
   "source": [
    "!pip install google"
   ]
  },
  {
   "cell_type": "code",
   "execution_count": 7,
   "id": "5bd57447",
   "metadata": {},
   "outputs": [],
   "source": [
    "import requests\n",
    "from bs4 import BeautifulSoup\n",
    "import pandas as pd\n",
    "import time\n",
    "import re\n",
    "from googlesearch import search"
   ]
  },
  {
   "cell_type": "code",
   "execution_count": null,
   "id": "cd5e720a",
   "metadata": {},
   "outputs": [
    {
     "name": "stdout",
     "output_type": "stream",
     "text": [
      "▶ '부트캠프' 크롤링 시작...\n",
      "\n",
      "✅ 총 0개 결과 수집됨!\n",
      "\n",
      "\n",
      "📁 저장 완료: naver_blog_direct.csv\n"
     ]
    }
   ],
   "source": [
    "def sanitize_for_excel(text):\n",
    "    \"\"\"\n",
    "    특수문자, 제어문자, 이모지 제거\n",
    "    \"\"\"\n",
    "    text = re.sub(r'[\\[\\]\\*\\?\\/\\\\:]', '', text)\n",
    "    text = ''.join(ch for ch in text if ch.isprintable())\n",
    "    emoji_pattern = re.compile(\"[\"\n",
    "        u\"\\U0001F600-\\U0001F64F\"\n",
    "        u\"\\U0001F300-\\U0001F5FF\"\n",
    "        u\"\\U0001F680-\\U0001F6FF\"\n",
    "        u\"\\U0001F1E0-\\U0001F1FF\"\n",
    "        \"]+\", flags=re.UNICODE)\n",
    "    return emoji_pattern.sub(r'', text.strip())\n",
    "\n",
    "def match_advanced_filter(text, include_keywords, exclude_keywords):\n",
    "    \"\"\"\n",
    "    본문에 모든 포함 키워드가 존재하고 제외 키워드가 없는지 확인 (대소문자 무시)\n",
    "    \"\"\"\n",
    "    text = text.lower()\n",
    "    return all(kw.lower() in text for kw in include_keywords) and not any(bad_kw.lower() in text for bad_kw in exclude_keywords)\n",
    "\n",
    "def crawl_tistory_via_google(keyword, include_keywords, exclude_keywords, max_results=10):\n",
    "    \"\"\"\n",
    "    구글 검색을 활용하여 티스토리 URL들을 수집하고,\n",
    "    해당 페이지에서 본문을 추출한 후 필터링한 결과를 반환\n",
    "    \"\"\"\n",
    "    query = f\"site:tistory.com {keyword}\"\n",
    "    results = []\n",
    "    headers = {\"User-Agent\": \"Mozilla/5.0\"}\n",
    "    \n",
    "    for url in search(query, stop=max_results):\n",
    "        try:\n",
    "            res = requests.get(url, headers=headers, timeout=5)\n",
    "            soup = BeautifulSoup(res.text, 'html.parser')\n",
    "            title_tag = soup.find(\"title\")\n",
    "            title = title_tag.text if title_tag else url\n",
    "\n",
    "            # 티스토리 게시글 본문 추출을 위한 후보 CSS 선택자 목록\n",
    "            candidates = [\n",
    "                \"div.entry-content\",\n",
    "                \"div.article\",\n",
    "                \"div.tt_article_useless_p_margin\",\n",
    "                \"div.contents_style\",\n",
    "                \"div#content\",\n",
    "                \"div.blogview_content\"\n",
    "            ]\n",
    "            body = \"\"\n",
    "            for sel in candidates:\n",
    "                el = soup.select_one(sel)\n",
    "                if el:\n",
    "                    body = sanitize_for_excel(el.get_text(separator=\"\\n\"))\n",
    "                    break\n",
    "\n",
    "            if match_advanced_filter(body, include_keywords, exclude_keywords):\n",
    "                results.append((\"티스토리\", title, url, body))\n",
    "        except Exception as e:\n",
    "            print(\"⚠️ 티스토리 오류:\", e)\n",
    "            continue\n",
    "\n",
    "    return results\n",
    "\n",
    "def save_to_file(data, base_filename=\"tistory_result\"):\n",
    "    \"\"\"\n",
    "    결과 데이터를 CSV 파일로 저장\n",
    "    \"\"\"\n",
    "    df = pd.DataFrame(data, columns=[\"플랫폼\", \"제목\", \"링크\", \"본문\"])\n",
    "    df.to_csv(f\"{base_filename}.csv\", index=False, encoding='utf-8-sig')\n",
    "    print(f\"\\n📁 저장 완료: {base_filename}.csv\")\n",
    "\n",
    "def main():\n",
    "    search_keyword = input(\"검색할 키워드를 입력하세요 (쉼표로 구분): \").strip().split(',')\n",
    "    include_keywords = input(\"본문에 반드시 포함할 키워드 (쉼표로 구분): \").strip().split(',')\n",
    "    exclude_keywords = input(\"본문에 제외할 키워드 (쉼표로 구분, 없으면 Enter): \").strip().split(',')\n",
    "    if exclude_keywords == ['']:\n",
    "        exclude_keywords = []\n",
    "    \n",
    "    print(\"\\n[🔍 티스토리 크롤링 시작...]\\n\")\n",
    "    results = crawl_tistory_via_google(search_keyword, include_keywords, exclude_keywords)\n",
    "    print(f\"\\n✅ 총 {len(results)}개 결과 수집됨!\\n\")\n",
    "    \n",
    "    for platform, title, link, _ in results:\n",
    "        print(f\"[{platform}] {title} → {link}\")\n",
    "    \n",
    "    save_to_file(results)\n",
    "\n",
    "if __name__ == \"__main__\":\n",
    "    main()"
   ]
  },
  {
   "cell_type": "code",
   "execution_count": null,
   "id": "af0c6833",
   "metadata": {},
   "outputs": [],
   "source": []
  }
 ],
 "metadata": {
  "kernelspec": {
   "display_name": "Python 3",
   "language": "python",
   "name": "python3"
  },
  "language_info": {
   "codemirror_mode": {
    "name": "ipython",
    "version": 3
   },
   "file_extension": ".py",
   "mimetype": "text/x-python",
   "name": "python",
   "nbconvert_exporter": "python",
   "pygments_lexer": "ipython3",
   "version": "3.13.1"
  }
 },
 "nbformat": 4,
 "nbformat_minor": 5
}
